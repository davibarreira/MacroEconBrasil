{
 "cells": [
  {
   "cell_type": "code",
   "execution_count": 1,
   "id": "89bd43dd-feef-4999-9c25-b77d56ead30d",
   "metadata": {},
   "outputs": [
    {
     "name": "stderr",
     "output_type": "stream",
     "text": [
      "\u001b[32m\u001b[1m  Activating\u001b[22m\u001b[39m project at `~/Documents/GitHub/MacroEconBrasil`\n"
     ]
    }
   ],
   "source": [
    "using Pkg\n",
    "Pkg.activate(\".\")"
   ]
  },
  {
   "cell_type": "code",
   "execution_count": 27,
   "id": "5fb5a278-102d-4063-95f5-a5eeb972b039",
   "metadata": {},
   "outputs": [],
   "source": [
    "using DataFrames\n",
    "using StatsBase\n",
    "using Vizagrams\n",
    "using StructArrays\n",
    "using KernelDensity\n",
    "using InverseFunctions\n",
    "using PrettyNumbers\n",
    "using CSV\n",
    "using Dates"
   ]
  },
  {
   "cell_type": "code",
   "execution_count": 77,
   "id": "0b9ac6a4-0ded-4fb5-b916-3c48ac0e55ce",
   "metadata": {},
   "outputs": [],
   "source": [
    "ipca = CSV.read(\"IPCA.csv\", DataFrame);\n",
    "ipca = copy(ipca[:,Not(:Column1)]);\n",
    "ipcawide = unstack(ipca, :variable, :value)\n",
    "\n",
    "ipca12 = CSV.read(\"IPCA_12m.csv\", DataFrame);\n",
    "ipca12 = copy(ipca12[:,Not(:Column1)]);\n",
    "\n",
    "ipcagp = CSV.read(\"IPCA_GP.csv\", DataFrame);\n",
    "ipcagp = copy(ipcagp[:,Not(:Column1)]);"
   ]
  },
  {
   "cell_type": "code",
   "execution_count": 78,
   "id": "27cca9a7-4a60-4d7b-be5b-515461b88955",
   "metadata": {},
   "outputs": [
    {
     "data": {
      "text/html": [
       "<div><div style = \"float: left;\"><span>1×3 DataFrame</span></div><div style = \"clear: both;\"></div></div><div class = \"data-frame\" style = \"overflow-x: scroll;\"><table class = \"data-frame\" style = \"margin-bottom: 6px;\"><thead><tr class = \"header\"><th class = \"rowNumber\" style = \"font-weight: bold; text-align: right;\">Row</th><th style = \"text-align: left;\">value</th><th style = \"text-align: left;\">date</th><th style = \"text-align: left;\">variable</th></tr><tr class = \"subheader headerLastRow\"><th class = \"rowNumber\" style = \"font-weight: bold; text-align: right;\"></th><th title = \"Float64\" style = \"text-align: left;\">Float64</th><th title = \"Date\" style = \"text-align: left;\">Date</th><th title = \"String15\" style = \"text-align: left;\">String15</th></tr></thead><tbody><tr><td class = \"rowNumber\" style = \"font-weight: bold; text-align: right;\">1</td><td style = \"text-align: right;\">5.77</td><td style = \"text-align: left;\">2023-01-01</td><td style = \"text-align: left;\">Var. MM12M (%)</td></tr></tbody></table></div>"
      ],
      "text/latex": [
       "\\begin{tabular}{r|ccc}\n",
       "\t& value & date & variable\\\\\n",
       "\t\\hline\n",
       "\t& Float64 & Date & String15\\\\\n",
       "\t\\hline\n",
       "\t1 & 5.77 & 2023-01-01 & Var. MM12M (\\%) \\\\\n",
       "\\end{tabular}\n"
      ],
      "text/plain": [
       "\u001b[1m1×3 DataFrame\u001b[0m\n",
       "\u001b[1m Row \u001b[0m│\u001b[1m value   \u001b[0m\u001b[1m date       \u001b[0m\u001b[1m variable       \u001b[0m\n",
       "     │\u001b[90m Float64 \u001b[0m\u001b[90m Date       \u001b[0m\u001b[90m String15       \u001b[0m\n",
       "─────┼─────────────────────────────────────\n",
       "   1 │    5.77  2023-01-01  Var. MM12M (%)"
      ]
     },
     "execution_count": 78,
     "metadata": {},
     "output_type": "execute_result"
    }
   ],
   "source": [
    "yearmonth.(ipca12.date)\n",
    "ipca12[map(x->yearmonth.(x) == (2023,2), ipca12.date),:]\n",
    "ipca12[map(x->yearmonth.(x) == (2023,1), ipca12.date),:]"
   ]
  },
  {
   "cell_type": "code",
   "execution_count": 109,
   "id": "8ab9e1f4-c006-4da1-a9e1-3fa3e3394e8b",
   "metadata": {},
   "outputs": [
    {
     "data": {
      "text/plain": [
       "taxa_correcao_ipca (generic function with 1 method)"
      ]
     },
     "execution_count": 109,
     "metadata": {},
     "output_type": "execute_result"
    }
   ],
   "source": [
    "function taxa_correcao_ipca(ano_i,ano_f)\n",
    "    acc_ano = map(i->ipcawide[map(x->yearmonth.(x) == (i,12), ipcawide.date),\"Var. acumulada no ano (%)\"][begin], ano_i:ano_f)\n",
    "    return foldl((acc,s)->acc*(1+s/100),acc_ano,init=100)/100\n",
    "end"
   ]
  },
  {
   "cell_type": "code",
   "execution_count": 114,
   "id": "fc587abf-c725-4286-9931-9a0a27aaa8d0",
   "metadata": {},
   "outputs": [
    {
     "data": {
      "text/plain": [
       "1.2731754107310576"
      ]
     },
     "execution_count": 114,
     "metadata": {},
     "output_type": "execute_result"
    }
   ],
   "source": [
    "taxa_correcao_ipca(2020,2023)"
   ]
  },
  {
   "cell_type": "code",
   "execution_count": 79,
   "id": "ae38c47d-077a-47af-a9ff-74fb821c7680",
   "metadata": {},
   "outputs": [
    {
     "data": {
      "text/plain": [
       "110.67749800000001"
      ]
     },
     "execution_count": 79,
     "metadata": {},
     "output_type": "execute_result"
    }
   ],
   "source": [
    "v = 100 * (1+5.79/100)\n",
    "v = v * (1+4.62/100)"
   ]
  },
  {
   "cell_type": "code",
   "execution_count": 98,
   "id": "d700fdc9-f764-40b2-8518-6e51b9d28938",
   "metadata": {},
   "outputs": [
    {
     "data": {
      "text/plain": [
       "14-element Vector{Float64}:\n",
       "  5.91\n",
       "  6.5\n",
       "  5.84\n",
       "  5.91\n",
       "  6.41\n",
       " 10.67\n",
       "  6.29\n",
       "  2.95\n",
       "  3.75\n",
       "  4.31\n",
       "  4.52\n",
       " 10.06\n",
       "  5.79\n",
       "  4.62"
      ]
     },
     "execution_count": 98,
     "metadata": {},
     "output_type": "execute_result"
    }
   ],
   "source": [
    "acc_ano = map(i->ipcawide[map(x->yearmonth.(x) == (i,12), ipcawide.date),\"Var. acumulada no ano (%)\"][begin], 2010:2023)"
   ]
  },
  {
   "cell_type": "code",
   "execution_count": 108,
   "id": "476e9e11-088e-4391-9145-20e4067565ce",
   "metadata": {},
   "outputs": [
    {
     "data": {
      "text/plain": [
       "2.2449505508575074"
      ]
     },
     "execution_count": 108,
     "metadata": {},
     "output_type": "execute_result"
    }
   ],
   "source": [
    "foldl((acc,s)->acc*(1+s/100),acc_ano,init=100)/100"
   ]
  },
  {
   "cell_type": "code",
   "execution_count": 106,
   "id": "1d9cabd3-f81c-476c-84c2-3745dd6241e3",
   "metadata": {},
   "outputs": [
    {
     "data": {
      "text/plain": [
       "0.015617520159811563"
      ]
     },
     "execution_count": 106,
     "metadata": {},
     "output_type": "execute_result"
    }
   ],
   "source": [
    "(foldl((acc,s)->acc*(1+s/100),acc_ano,init=100) - 224.46)*100/224.46"
   ]
  },
  {
   "cell_type": "code",
   "execution_count": 80,
   "id": "ee76a60c-487f-4ac0-b29a-13e7e2ebc45b",
   "metadata": {},
   "outputs": [
    {
     "data": {
      "text/html": [
       "<div><div style = \"float: left;\"><span>5×3 DataFrame</span></div><div style = \"clear: both;\"></div></div><div class = \"data-frame\" style = \"overflow-x: scroll;\"><table class = \"data-frame\" style = \"margin-bottom: 6px;\"><thead><tr class = \"header\"><th class = \"rowNumber\" style = \"font-weight: bold; text-align: right;\">Row</th><th style = \"text-align: left;\">value</th><th style = \"text-align: left;\">date</th><th style = \"text-align: left;\">variable</th></tr><tr class = \"subheader headerLastRow\"><th class = \"rowNumber\" style = \"font-weight: bold; text-align: right;\"></th><th title = \"Float64\" style = \"text-align: left;\">Float64</th><th title = \"Date\" style = \"text-align: left;\">Date</th><th title = \"String31\" style = \"text-align: left;\">String31</th></tr></thead><tbody><tr><td class = \"rowNumber\" style = \"font-weight: bold; text-align: right;\">1</td><td style = \"text-align: right;\">1.35</td><td style = \"text-align: left;\">2020-12-01</td><td style = \"text-align: left;\">Var. mensal (%)</td></tr><tr><td class = \"rowNumber\" style = \"font-weight: bold; text-align: right;\">2</td><td style = \"text-align: right;\">4.52</td><td style = \"text-align: left;\">2020-12-01</td><td style = \"text-align: left;\">Var. acumulada no ano (%)</td></tr><tr><td class = \"rowNumber\" style = \"font-weight: bold; text-align: right;\">3</td><td style = \"text-align: right;\">3.13</td><td style = \"text-align: left;\">2020-12-01</td><td style = \"text-align: left;\">Var. MM3M (%)</td></tr><tr><td class = \"rowNumber\" style = \"font-weight: bold; text-align: right;\">4</td><td style = \"text-align: right;\">4.42</td><td style = \"text-align: left;\">2020-12-01</td><td style = \"text-align: left;\">Var. MM6M (%)</td></tr><tr><td class = \"rowNumber\" style = \"font-weight: bold; text-align: right;\">5</td><td style = \"text-align: right;\">4.52</td><td style = \"text-align: left;\">2020-12-01</td><td style = \"text-align: left;\">Var. MM12M (%)</td></tr></tbody></table></div>"
      ],
      "text/latex": [
       "\\begin{tabular}{r|ccc}\n",
       "\t& value & date & variable\\\\\n",
       "\t\\hline\n",
       "\t& Float64 & Date & String31\\\\\n",
       "\t\\hline\n",
       "\t1 & 1.35 & 2020-12-01 & Var. mensal (\\%) \\\\\n",
       "\t2 & 4.52 & 2020-12-01 & Var. acumulada no ano (\\%) \\\\\n",
       "\t3 & 3.13 & 2020-12-01 & Var. MM3M (\\%) \\\\\n",
       "\t4 & 4.42 & 2020-12-01 & Var. MM6M (\\%) \\\\\n",
       "\t5 & 4.52 & 2020-12-01 & Var. MM12M (\\%) \\\\\n",
       "\\end{tabular}\n"
      ],
      "text/plain": [
       "\u001b[1m5×3 DataFrame\u001b[0m\n",
       "\u001b[1m Row \u001b[0m│\u001b[1m value   \u001b[0m\u001b[1m date       \u001b[0m\u001b[1m variable                  \u001b[0m\n",
       "     │\u001b[90m Float64 \u001b[0m\u001b[90m Date       \u001b[0m\u001b[90m String31                  \u001b[0m\n",
       "─────┼────────────────────────────────────────────────\n",
       "   1 │    1.35  2020-12-01  Var. mensal (%)\n",
       "   2 │    4.52  2020-12-01  Var. acumulada no ano (%)\n",
       "   3 │    3.13  2020-12-01  Var. MM3M (%)\n",
       "   4 │    4.42  2020-12-01  Var. MM6M (%)\n",
       "   5 │    4.52  2020-12-01  Var. MM12M (%)"
      ]
     },
     "execution_count": 80,
     "metadata": {},
     "output_type": "execute_result"
    }
   ],
   "source": [
    "ipca[map(x->yearmonth.(x) == (2020,12), ipca.date),:]"
   ]
  },
  {
   "cell_type": "code",
   "execution_count": 67,
   "id": "ce67dbf8-8eb0-4dc8-87f2-719e25fdc7bc",
   "metadata": {},
   "outputs": [
    {
     "data": {
      "text/html": [
       "<div><div style = \"float: left;\"><span>5×3 DataFrame</span></div><div style = \"clear: both;\"></div></div><div class = \"data-frame\" style = \"overflow-x: scroll;\"><table class = \"data-frame\" style = \"margin-bottom: 6px;\"><thead><tr class = \"header\"><th class = \"rowNumber\" style = \"font-weight: bold; text-align: right;\">Row</th><th style = \"text-align: left;\">value</th><th style = \"text-align: left;\">date</th><th style = \"text-align: left;\">variable</th></tr><tr class = \"subheader headerLastRow\"><th class = \"rowNumber\" style = \"font-weight: bold; text-align: right;\"></th><th title = \"Float64\" style = \"text-align: left;\">Float64</th><th title = \"Date\" style = \"text-align: left;\">Date</th><th title = \"String31\" style = \"text-align: left;\">String31</th></tr></thead><tbody><tr><td class = \"rowNumber\" style = \"font-weight: bold; text-align: right;\">1</td><td style = \"text-align: right;\">0.56</td><td style = \"text-align: left;\">2023-12-01</td><td style = \"text-align: left;\">Var. mensal (%)</td></tr><tr><td class = \"rowNumber\" style = \"font-weight: bold; text-align: right;\">2</td><td style = \"text-align: right;\">4.62</td><td style = \"text-align: left;\">2023-12-01</td><td style = \"text-align: left;\">Var. acumulada no ano (%)</td></tr><tr><td class = \"rowNumber\" style = \"font-weight: bold; text-align: right;\">3</td><td style = \"text-align: right;\">1.08</td><td style = \"text-align: left;\">2023-12-01</td><td style = \"text-align: left;\">Var. MM3M (%)</td></tr><tr><td class = \"rowNumber\" style = \"font-weight: bold; text-align: right;\">4</td><td style = \"text-align: right;\">1.7</td><td style = \"text-align: left;\">2023-12-01</td><td style = \"text-align: left;\">Var. MM6M (%)</td></tr><tr><td class = \"rowNumber\" style = \"font-weight: bold; text-align: right;\">5</td><td style = \"text-align: right;\">4.62</td><td style = \"text-align: left;\">2023-12-01</td><td style = \"text-align: left;\">Var. MM12M (%)</td></tr></tbody></table></div>"
      ],
      "text/latex": [
       "\\begin{tabular}{r|ccc}\n",
       "\t& value & date & variable\\\\\n",
       "\t\\hline\n",
       "\t& Float64 & Date & String31\\\\\n",
       "\t\\hline\n",
       "\t1 & 0.56 & 2023-12-01 & Var. mensal (\\%) \\\\\n",
       "\t2 & 4.62 & 2023-12-01 & Var. acumulada no ano (\\%) \\\\\n",
       "\t3 & 1.08 & 2023-12-01 & Var. MM3M (\\%) \\\\\n",
       "\t4 & 1.7 & 2023-12-01 & Var. MM6M (\\%) \\\\\n",
       "\t5 & 4.62 & 2023-12-01 & Var. MM12M (\\%) \\\\\n",
       "\\end{tabular}\n"
      ],
      "text/plain": [
       "\u001b[1m5×3 DataFrame\u001b[0m\n",
       "\u001b[1m Row \u001b[0m│\u001b[1m value   \u001b[0m\u001b[1m date       \u001b[0m\u001b[1m variable                  \u001b[0m\n",
       "     │\u001b[90m Float64 \u001b[0m\u001b[90m Date       \u001b[0m\u001b[90m String31                  \u001b[0m\n",
       "─────┼────────────────────────────────────────────────\n",
       "   1 │    0.56  2023-12-01  Var. mensal (%)\n",
       "   2 │    4.62  2023-12-01  Var. acumulada no ano (%)\n",
       "   3 │    1.08  2023-12-01  Var. MM3M (%)\n",
       "   4 │    1.7   2023-12-01  Var. MM6M (%)\n",
       "   5 │    4.62  2023-12-01  Var. MM12M (%)"
      ]
     },
     "execution_count": 67,
     "metadata": {},
     "output_type": "execute_result"
    }
   ],
   "source": [
    "ipca[map(x->yearmonth.(x) == (2023,12), ipca.date),:]"
   ]
  },
  {
   "cell_type": "code",
   "execution_count": null,
   "id": "0109f9c0-0593-4cc7-8f4e-a336468519b9",
   "metadata": {},
   "outputs": [],
   "source": []
  },
  {
   "cell_type": "code",
   "execution_count": 65,
   "id": "a2a0793c-f918-49ca-a2ea-18b482b4cf08",
   "metadata": {},
   "outputs": [
    {
     "data": {
      "text/html": [
       "<div><div style = \"float: left;\"><span>486×5 DataFrame</span></div><div style = \"float: right;\"><span style = \"font-style: italic;\">461 rows omitted</span></div><div style = \"clear: both;\"></div></div><div class = \"data-frame\" style = \"overflow-x: scroll;\"><table class = \"data-frame\" style = \"margin-bottom: 6px;\"><thead><tr class = \"header\"><th class = \"rowNumber\" style = \"font-weight: bold; text-align: right;\">Row</th><th style = \"text-align: left;\">date</th><th style = \"text-align: left;\">groups</th><th style = \"text-align: left;\">peso</th><th style = \"text-align: left;\">variacao</th><th style = \"text-align: left;\">contribuicao</th></tr><tr class = \"subheader headerLastRow\"><th class = \"rowNumber\" style = \"font-weight: bold; text-align: right;\"></th><th title = \"Date\" style = \"text-align: left;\">Date</th><th title = \"String31\" style = \"text-align: left;\">String31</th><th title = \"Float64\" style = \"text-align: left;\">Float64</th><th title = \"Float64\" style = \"text-align: left;\">Float64</th><th title = \"Float64\" style = \"text-align: left;\">Float64</th></tr></thead><tbody><tr><td class = \"rowNumber\" style = \"font-weight: bold; text-align: right;\">1</td><td style = \"text-align: left;\">2020-01-01</td><td style = \"text-align: left;\">1.Alimentação e bebidas</td><td style = \"text-align: right;\">19.3483</td><td style = \"text-align: right;\">0.39</td><td style = \"text-align: right;\">0.0754584</td></tr><tr><td class = \"rowNumber\" style = \"font-weight: bold; text-align: right;\">2</td><td style = \"text-align: left;\">2020-01-01</td><td style = \"text-align: left;\">2.Habitação</td><td style = \"text-align: right;\">15.5945</td><td style = \"text-align: right;\">0.55</td><td style = \"text-align: right;\">0.0857698</td></tr><tr><td class = \"rowNumber\" style = \"font-weight: bold; text-align: right;\">3</td><td style = \"text-align: left;\">2020-01-01</td><td style = \"text-align: left;\">3.Artigos de residência</td><td style = \"text-align: right;\">3.7529</td><td style = \"text-align: right;\">-0.07</td><td style = \"text-align: right;\">-0.00262703</td></tr><tr><td class = \"rowNumber\" style = \"font-weight: bold; text-align: right;\">4</td><td style = \"text-align: left;\">2020-01-01</td><td style = \"text-align: left;\">4.Vestuário</td><td style = \"text-align: right;\">4.577</td><td style = \"text-align: right;\">-0.48</td><td style = \"text-align: right;\">-0.0219696</td></tr><tr><td class = \"rowNumber\" style = \"font-weight: bold; text-align: right;\">5</td><td style = \"text-align: left;\">2020-01-01</td><td style = \"text-align: left;\">5.Transportes</td><td style = \"text-align: right;\">20.5979</td><td style = \"text-align: right;\">0.32</td><td style = \"text-align: right;\">0.0659133</td></tr><tr><td class = \"rowNumber\" style = \"font-weight: bold; text-align: right;\">6</td><td style = \"text-align: left;\">2020-01-01</td><td style = \"text-align: left;\">6.Saúde e cuidados pessoais</td><td style = \"text-align: right;\">13.5334</td><td style = \"text-align: right;\">-0.32</td><td style = \"text-align: right;\">-0.0433069</td></tr><tr><td class = \"rowNumber\" style = \"font-weight: bold; text-align: right;\">7</td><td style = \"text-align: left;\">2020-01-01</td><td style = \"text-align: left;\">7.Despesas pessoais</td><td style = \"text-align: right;\">10.733</td><td style = \"text-align: right;\">0.35</td><td style = \"text-align: right;\">0.0375655</td></tr><tr><td class = \"rowNumber\" style = \"font-weight: bold; text-align: right;\">8</td><td style = \"text-align: left;\">2020-01-01</td><td style = \"text-align: left;\">8.Educação</td><td style = \"text-align: right;\">6.1485</td><td style = \"text-align: right;\">0.16</td><td style = \"text-align: right;\">0.0098376</td></tr><tr><td class = \"rowNumber\" style = \"font-weight: bold; text-align: right;\">9</td><td style = \"text-align: left;\">2020-01-01</td><td style = \"text-align: left;\">9.Comunicação</td><td style = \"text-align: right;\">5.7146</td><td style = \"text-align: right;\">0.12</td><td style = \"text-align: right;\">0.00685752</td></tr><tr><td class = \"rowNumber\" style = \"font-weight: bold; text-align: right;\">10</td><td style = \"text-align: left;\">2020-02-01</td><td style = \"text-align: left;\">1.Alimentação e bebidas</td><td style = \"text-align: right;\">19.3816</td><td style = \"text-align: right;\">0.11</td><td style = \"text-align: right;\">0.0213198</td></tr><tr><td class = \"rowNumber\" style = \"font-weight: bold; text-align: right;\">11</td><td style = \"text-align: left;\">2020-02-01</td><td style = \"text-align: left;\">2.Habitação</td><td style = \"text-align: right;\">15.6461</td><td style = \"text-align: right;\">-0.39</td><td style = \"text-align: right;\">-0.0610198</td></tr><tr><td class = \"rowNumber\" style = \"font-weight: bold; text-align: right;\">12</td><td style = \"text-align: left;\">2020-02-01</td><td style = \"text-align: left;\">3.Artigos de residência</td><td style = \"text-align: right;\">3.7423</td><td style = \"text-align: right;\">-0.08</td><td style = \"text-align: right;\">-0.00299384</td></tr><tr><td class = \"rowNumber\" style = \"font-weight: bold; text-align: right;\">13</td><td style = \"text-align: left;\">2020-02-01</td><td style = \"text-align: left;\">4.Vestuário</td><td style = \"text-align: right;\">4.5455</td><td style = \"text-align: right;\">-0.73</td><td style = \"text-align: right;\">-0.0331821</td></tr><tr><td style = \"text-align: right;\">&vellip;</td><td style = \"text-align: right;\">&vellip;</td><td style = \"text-align: right;\">&vellip;</td><td style = \"text-align: right;\">&vellip;</td><td style = \"text-align: right;\">&vellip;</td><td style = \"text-align: right;\">&vellip;</td></tr><tr><td class = \"rowNumber\" style = \"font-weight: bold; text-align: right;\">475</td><td style = \"text-align: left;\">2024-05-01</td><td style = \"text-align: left;\">7.Despesas pessoais</td><td style = \"text-align: right;\">10.0915</td><td style = \"text-align: right;\">0.22</td><td style = \"text-align: right;\">0.0222013</td></tr><tr><td class = \"rowNumber\" style = \"font-weight: bold; text-align: right;\">476</td><td style = \"text-align: left;\">2024-05-01</td><td style = \"text-align: left;\">8.Educação</td><td style = \"text-align: right;\">6.0552</td><td style = \"text-align: right;\">0.09</td><td style = \"text-align: right;\">0.00544968</td></tr><tr><td class = \"rowNumber\" style = \"font-weight: bold; text-align: right;\">477</td><td style = \"text-align: left;\">2024-05-01</td><td style = \"text-align: left;\">9.Comunicação</td><td style = \"text-align: right;\">4.8004</td><td style = \"text-align: right;\">0.14</td><td style = \"text-align: right;\">0.00672056</td></tr><tr><td class = \"rowNumber\" style = \"font-weight: bold; text-align: right;\">478</td><td style = \"text-align: left;\">2024-06-01</td><td style = \"text-align: left;\">1.Alimentação e bebidas</td><td style = \"text-align: right;\">21.5202</td><td style = \"text-align: right;\">0.44</td><td style = \"text-align: right;\">0.0946889</td></tr><tr><td class = \"rowNumber\" style = \"font-weight: bold; text-align: right;\">479</td><td style = \"text-align: left;\">2024-06-01</td><td style = \"text-align: left;\">2.Habitação</td><td style = \"text-align: right;\">15.1924</td><td style = \"text-align: right;\">0.25</td><td style = \"text-align: right;\">0.037981</td></tr><tr><td class = \"rowNumber\" style = \"font-weight: bold; text-align: right;\">480</td><td style = \"text-align: left;\">2024-06-01</td><td style = \"text-align: left;\">3.Artigos de residência</td><td style = \"text-align: right;\">3.6797</td><td style = \"text-align: right;\">0.19</td><td style = \"text-align: right;\">0.00699143</td></tr><tr><td class = \"rowNumber\" style = \"font-weight: bold; text-align: right;\">481</td><td style = \"text-align: left;\">2024-06-01</td><td style = \"text-align: left;\">4.Vestuário</td><td style = \"text-align: right;\">4.6943</td><td style = \"text-align: right;\">0.02</td><td style = \"text-align: right;\">0.00093886</td></tr><tr><td class = \"rowNumber\" style = \"font-weight: bold; text-align: right;\">482</td><td style = \"text-align: left;\">2024-06-01</td><td style = \"text-align: left;\">5.Transportes</td><td style = \"text-align: right;\">20.5315</td><td style = \"text-align: right;\">-0.19</td><td style = \"text-align: right;\">-0.0390099</td></tr><tr><td class = \"rowNumber\" style = \"font-weight: bold; text-align: right;\">483</td><td style = \"text-align: left;\">2024-06-01</td><td style = \"text-align: left;\">6.Saúde e cuidados pessoais</td><td style = \"text-align: right;\">13.4957</td><td style = \"text-align: right;\">0.54</td><td style = \"text-align: right;\">0.0728768</td></tr><tr><td class = \"rowNumber\" style = \"font-weight: bold; text-align: right;\">484</td><td style = \"text-align: left;\">2024-06-01</td><td style = \"text-align: left;\">7.Despesas pessoais</td><td style = \"text-align: right;\">10.0679</td><td style = \"text-align: right;\">0.29</td><td style = \"text-align: right;\">0.0291969</td></tr><tr><td class = \"rowNumber\" style = \"font-weight: bold; text-align: right;\">485</td><td style = \"text-align: left;\">2024-06-01</td><td style = \"text-align: left;\">8.Educação</td><td style = \"text-align: right;\">6.0335</td><td style = \"text-align: right;\">0.06</td><td style = \"text-align: right;\">0.0036201</td></tr><tr><td class = \"rowNumber\" style = \"font-weight: bold; text-align: right;\">486</td><td style = \"text-align: left;\">2024-06-01</td><td style = \"text-align: left;\">9.Comunicação</td><td style = \"text-align: right;\">4.7847</td><td style = \"text-align: right;\">-0.08</td><td style = \"text-align: right;\">-0.00382776</td></tr></tbody></table></div>"
      ],
      "text/latex": [
       "\\begin{tabular}{r|ccccc}\n",
       "\t& date & groups & peso & variacao & contribuicao\\\\\n",
       "\t\\hline\n",
       "\t& Date & String31 & Float64 & Float64 & Float64\\\\\n",
       "\t\\hline\n",
       "\t1 & 2020-01-01 & 1.Alimentação e bebidas & 19.3483 & 0.39 & 0.0754584 \\\\\n",
       "\t2 & 2020-01-01 & 2.Habitação & 15.5945 & 0.55 & 0.0857698 \\\\\n",
       "\t3 & 2020-01-01 & 3.Artigos de residência & 3.7529 & -0.07 & -0.00262703 \\\\\n",
       "\t4 & 2020-01-01 & 4.Vestuário & 4.577 & -0.48 & -0.0219696 \\\\\n",
       "\t5 & 2020-01-01 & 5.Transportes & 20.5979 & 0.32 & 0.0659133 \\\\\n",
       "\t6 & 2020-01-01 & 6.Saúde e cuidados pessoais & 13.5334 & -0.32 & -0.0433069 \\\\\n",
       "\t7 & 2020-01-01 & 7.Despesas pessoais & 10.733 & 0.35 & 0.0375655 \\\\\n",
       "\t8 & 2020-01-01 & 8.Educação & 6.1485 & 0.16 & 0.0098376 \\\\\n",
       "\t9 & 2020-01-01 & 9.Comunicação & 5.7146 & 0.12 & 0.00685752 \\\\\n",
       "\t10 & 2020-02-01 & 1.Alimentação e bebidas & 19.3816 & 0.11 & 0.0213198 \\\\\n",
       "\t11 & 2020-02-01 & 2.Habitação & 15.6461 & -0.39 & -0.0610198 \\\\\n",
       "\t12 & 2020-02-01 & 3.Artigos de residência & 3.7423 & -0.08 & -0.00299384 \\\\\n",
       "\t13 & 2020-02-01 & 4.Vestuário & 4.5455 & -0.73 & -0.0331821 \\\\\n",
       "\t14 & 2020-02-01 & 5.Transportes & 20.6217 & -0.23 & -0.0474299 \\\\\n",
       "\t15 & 2020-02-01 & 6.Saúde e cuidados pessoais & 13.4612 & 0.73 & 0.0982668 \\\\\n",
       "\t16 & 2020-02-01 & 7.Despesas pessoais & 10.7474 & 0.31 & 0.0333169 \\\\\n",
       "\t17 & 2020-02-01 & 8.Educação & 6.1448 & 3.7 & 0.227358 \\\\\n",
       "\t18 & 2020-02-01 & 9.Comunicação & 5.7096 & 0.21 & 0.0119902 \\\\\n",
       "\t19 & 2020-03-01 & 1.Alimentação e bebidas & 19.3545 & 1.13 & 0.218706 \\\\\n",
       "\t20 & 2020-03-01 & 2.Habitação & 15.547 & 0.13 & 0.0202111 \\\\\n",
       "\t21 & 2020-03-01 & 3.Artigos de residência & 3.7298 & -1.08 & -0.0402818 \\\\\n",
       "\t22 & 2020-03-01 & 4.Vestuário & 4.5008 & 0.21 & 0.00945168 \\\\\n",
       "\t23 & 2020-03-01 & 5.Transportes & 20.5255 & -0.9 & -0.18473 \\\\\n",
       "\t24 & 2020-03-01 & 6.Saúde e cuidados pessoais & 13.5247 & 0.21 & 0.0284019 \\\\\n",
       "\t25 & 2020-03-01 & 7.Despesas pessoais & 10.7541 & -0.23 & -0.0247344 \\\\\n",
       "\t26 & 2020-03-01 & 8.Educação & 6.356 & 0.59 & 0.0375004 \\\\\n",
       "\t27 & 2020-03-01 & 9.Comunicação & 5.7077 & 0.04 & 0.00228308 \\\\\n",
       "\t28 & 2020-04-01 & 1.Alimentação e bebidas & 19.5588 & 1.79 & 0.350103 \\\\\n",
       "\t29 & 2020-04-01 & 2.Habitação & 15.5544 & -0.1 & -0.0155544 \\\\\n",
       "\t30 & 2020-04-01 & 3.Artigos de residência & 3.6874 & -1.37 & -0.0505174 \\\\\n",
       "\t$\\dots$ & $\\dots$ & $\\dots$ & $\\dots$ & $\\dots$ & $\\dots$ \\\\\n",
       "\\end{tabular}\n"
      ],
      "text/plain": [
       "\u001b[1m486×5 DataFrame\u001b[0m\n",
       "\u001b[1m Row \u001b[0m│\u001b[1m date       \u001b[0m\u001b[1m groups                      \u001b[0m\u001b[1m peso    \u001b[0m\u001b[1m variacao \u001b[0m\u001b[1m contribuica\u001b[0m ⋯\n",
       "     │\u001b[90m Date       \u001b[0m\u001b[90m String31                    \u001b[0m\u001b[90m Float64 \u001b[0m\u001b[90m Float64  \u001b[0m\u001b[90m Float64    \u001b[0m ⋯\n",
       "─────┼──────────────────────────────────────────────────────────────────────────\n",
       "   1 │ 2020-01-01  1.Alimentação e bebidas      19.3483      0.39    0.0754584 ⋯\n",
       "   2 │ 2020-01-01  2.Habitação                  15.5945      0.55    0.0857698\n",
       "   3 │ 2020-01-01  3.Artigos de residência       3.7529     -0.07   -0.0026270\n",
       "   4 │ 2020-01-01  4.Vestuário                   4.577      -0.48   -0.0219696\n",
       "   5 │ 2020-01-01  5.Transportes                20.5979      0.32    0.0659133 ⋯\n",
       "   6 │ 2020-01-01  6.Saúde e cuidados pessoais  13.5334     -0.32   -0.0433069\n",
       "   7 │ 2020-01-01  7.Despesas pessoais          10.733       0.35    0.0375655\n",
       "   8 │ 2020-01-01  8.Educação                    6.1485      0.16    0.0098376\n",
       "   9 │ 2020-01-01  9.Comunicação                 5.7146      0.12    0.0068575 ⋯\n",
       "  10 │ 2020-02-01  1.Alimentação e bebidas      19.3816      0.11    0.0213198\n",
       "  11 │ 2020-02-01  2.Habitação                  15.6461     -0.39   -0.0610198\n",
       "  ⋮  │     ⋮                    ⋮                  ⋮        ⋮           ⋮      ⋱\n",
       " 477 │ 2024-05-01  9.Comunicação                 4.8004      0.14    0.0067205\n",
       " 478 │ 2024-06-01  1.Alimentação e bebidas      21.5202      0.44    0.0946889 ⋯\n",
       " 479 │ 2024-06-01  2.Habitação                  15.1924      0.25    0.037981\n",
       " 480 │ 2024-06-01  3.Artigos de residência       3.6797      0.19    0.0069914\n",
       " 481 │ 2024-06-01  4.Vestuário                   4.6943      0.02    0.0009388\n",
       " 482 │ 2024-06-01  5.Transportes                20.5315     -0.19   -0.0390099 ⋯\n",
       " 483 │ 2024-06-01  6.Saúde e cuidados pessoais  13.4957      0.54    0.0728768\n",
       " 484 │ 2024-06-01  7.Despesas pessoais          10.0679      0.29    0.0291969\n",
       " 485 │ 2024-06-01  8.Educação                    6.0335      0.06    0.0036201\n",
       " 486 │ 2024-06-01  9.Comunicação                 4.7847     -0.08   -0.0038277 ⋯\n",
       "\u001b[36m                                                   1 column and 465 rows omitted\u001b[0m"
      ]
     },
     "execution_count": 65,
     "metadata": {},
     "output_type": "execute_result"
    }
   ],
   "source": [
    "ipcagp"
   ]
  },
  {
   "cell_type": "code",
   "execution_count": null,
   "id": "66fad445-5e1b-4442-8ac9-4c46d15ec14b",
   "metadata": {},
   "outputs": [],
   "source": []
  },
  {
   "cell_type": "code",
   "execution_count": 16,
   "id": "2941df24-9b8c-4e92-a0e7-5ff450e6c084",
   "metadata": {},
   "outputs": [
    {
     "data": {
      "text/html": [
       "<div><div style = \"float: left;\"><span>5×4 DataFrame</span></div><div style = \"clear: both;\"></div></div><div class = \"data-frame\" style = \"overflow-x: scroll;\"><table class = \"data-frame\" style = \"margin-bottom: 6px;\"><thead><tr class = \"header\"><th class = \"rowNumber\" style = \"font-weight: bold; text-align: right;\">Row</th><th style = \"text-align: left;\">Column1</th><th style = \"text-align: left;\">value</th><th style = \"text-align: left;\">date</th><th style = \"text-align: left;\">variable</th></tr><tr class = \"subheader headerLastRow\"><th class = \"rowNumber\" style = \"font-weight: bold; text-align: right;\"></th><th title = \"Int64\" style = \"text-align: left;\">Int64</th><th title = \"Float64\" style = \"text-align: left;\">Float64</th><th title = \"Dates.Date\" style = \"text-align: left;\">Date</th><th title = \"String15\" style = \"text-align: left;\">String15</th></tr></thead><tbody><tr><td class = \"rowNumber\" style = \"font-weight: bold; text-align: right;\">1</td><td style = \"text-align: right;\">1320</td><td style = \"text-align: right;\">3.02</td><td style = \"text-align: left;\">2007-02-01</td><td style = \"text-align: left;\">Var. MM12M (%)</td></tr><tr><td class = \"rowNumber\" style = \"font-weight: bold; text-align: right;\">2</td><td style = \"text-align: right;\">1325</td><td style = \"text-align: right;\">2.96</td><td style = \"text-align: left;\">2007-03-01</td><td style = \"text-align: left;\">Var. MM12M (%)</td></tr><tr><td class = \"rowNumber\" style = \"font-weight: bold; text-align: right;\">3</td><td style = \"text-align: right;\">1330</td><td style = \"text-align: right;\">3.0</td><td style = \"text-align: left;\">2007-04-01</td><td style = \"text-align: left;\">Var. MM12M (%)</td></tr><tr><td class = \"rowNumber\" style = \"font-weight: bold; text-align: right;\">4</td><td style = \"text-align: right;\">1335</td><td style = \"text-align: right;\">3.18</td><td style = \"text-align: left;\">2007-05-01</td><td style = \"text-align: left;\">Var. MM12M (%)</td></tr><tr><td class = \"rowNumber\" style = \"font-weight: bold; text-align: right;\">5</td><td style = \"text-align: right;\">1340</td><td style = \"text-align: right;\">3.69</td><td style = \"text-align: left;\">2007-06-01</td><td style = \"text-align: left;\">Var. MM12M (%)</td></tr></tbody></table></div>"
      ],
      "text/latex": [
       "\\begin{tabular}{r|cccc}\n",
       "\t& Column1 & value & date & variable\\\\\n",
       "\t\\hline\n",
       "\t& Int64 & Float64 & Date & String15\\\\\n",
       "\t\\hline\n",
       "\t1 & 1320 & 3.02 & 2007-02-01 & Var. MM12M (\\%) \\\\\n",
       "\t2 & 1325 & 2.96 & 2007-03-01 & Var. MM12M (\\%) \\\\\n",
       "\t3 & 1330 & 3.0 & 2007-04-01 & Var. MM12M (\\%) \\\\\n",
       "\t4 & 1335 & 3.18 & 2007-05-01 & Var. MM12M (\\%) \\\\\n",
       "\t5 & 1340 & 3.69 & 2007-06-01 & Var. MM12M (\\%) \\\\\n",
       "\\end{tabular}\n"
      ],
      "text/plain": [
       "\u001b[1m5×4 DataFrame\u001b[0m\n",
       "\u001b[1m Row \u001b[0m│\u001b[1m Column1 \u001b[0m\u001b[1m value   \u001b[0m\u001b[1m date       \u001b[0m\u001b[1m variable       \u001b[0m\n",
       "     │\u001b[90m Int64   \u001b[0m\u001b[90m Float64 \u001b[0m\u001b[90m Date       \u001b[0m\u001b[90m String15       \u001b[0m\n",
       "─────┼──────────────────────────────────────────────\n",
       "   1 │    1320     3.02  2007-02-01  Var. MM12M (%)\n",
       "   2 │    1325     2.96  2007-03-01  Var. MM12M (%)\n",
       "   3 │    1330     3.0   2007-04-01  Var. MM12M (%)\n",
       "   4 │    1335     3.18  2007-05-01  Var. MM12M (%)\n",
       "   5 │    1340     3.69  2007-06-01  Var. MM12M (%)"
      ]
     },
     "execution_count": 16,
     "metadata": {},
     "output_type": "execute_result"
    }
   ],
   "source": [
    "ipca12[1:5,:]"
   ]
  },
  {
   "cell_type": "code",
   "execution_count": 17,
   "id": "0f410dba-242a-47d5-83cf-36f159112860",
   "metadata": {},
   "outputs": [
    {
     "data": {
      "text/html": [
       "<div><div style = \"float: left;\"><span>5×6 DataFrame</span></div><div style = \"clear: both;\"></div></div><div class = \"data-frame\" style = \"overflow-x: scroll;\"><table class = \"data-frame\" style = \"margin-bottom: 6px;\"><thead><tr class = \"header\"><th class = \"rowNumber\" style = \"font-weight: bold; text-align: right;\">Row</th><th style = \"text-align: left;\">Column1</th><th style = \"text-align: left;\">date</th><th style = \"text-align: left;\">groups</th><th style = \"text-align: left;\">peso</th><th style = \"text-align: left;\">variacao</th><th style = \"text-align: left;\">contribuicao</th></tr><tr class = \"subheader headerLastRow\"><th class = \"rowNumber\" style = \"font-weight: bold; text-align: right;\"></th><th title = \"Int64\" style = \"text-align: left;\">Int64</th><th title = \"Dates.Date\" style = \"text-align: left;\">Date</th><th title = \"String31\" style = \"text-align: left;\">String31</th><th title = \"Float64\" style = \"text-align: left;\">Float64</th><th title = \"Float64\" style = \"text-align: left;\">Float64</th><th title = \"Float64\" style = \"text-align: left;\">Float64</th></tr></thead><tbody><tr><td class = \"rowNumber\" style = \"font-weight: bold; text-align: right;\">1</td><td style = \"text-align: right;\">0</td><td style = \"text-align: left;\">2020-01-01</td><td style = \"text-align: left;\">1.Alimentação e bebidas</td><td style = \"text-align: right;\">19.3483</td><td style = \"text-align: right;\">0.39</td><td style = \"text-align: right;\">0.0754584</td></tr><tr><td class = \"rowNumber\" style = \"font-weight: bold; text-align: right;\">2</td><td style = \"text-align: right;\">1</td><td style = \"text-align: left;\">2020-01-01</td><td style = \"text-align: left;\">2.Habitação</td><td style = \"text-align: right;\">15.5945</td><td style = \"text-align: right;\">0.55</td><td style = \"text-align: right;\">0.0857698</td></tr><tr><td class = \"rowNumber\" style = \"font-weight: bold; text-align: right;\">3</td><td style = \"text-align: right;\">2</td><td style = \"text-align: left;\">2020-01-01</td><td style = \"text-align: left;\">3.Artigos de residência</td><td style = \"text-align: right;\">3.7529</td><td style = \"text-align: right;\">-0.07</td><td style = \"text-align: right;\">-0.00262703</td></tr><tr><td class = \"rowNumber\" style = \"font-weight: bold; text-align: right;\">4</td><td style = \"text-align: right;\">3</td><td style = \"text-align: left;\">2020-01-01</td><td style = \"text-align: left;\">4.Vestuário</td><td style = \"text-align: right;\">4.577</td><td style = \"text-align: right;\">-0.48</td><td style = \"text-align: right;\">-0.0219696</td></tr><tr><td class = \"rowNumber\" style = \"font-weight: bold; text-align: right;\">5</td><td style = \"text-align: right;\">4</td><td style = \"text-align: left;\">2020-01-01</td><td style = \"text-align: left;\">5.Transportes</td><td style = \"text-align: right;\">20.5979</td><td style = \"text-align: right;\">0.32</td><td style = \"text-align: right;\">0.0659133</td></tr></tbody></table></div>"
      ],
      "text/latex": [
       "\\begin{tabular}{r|cccccc}\n",
       "\t& Column1 & date & groups & peso & variacao & contribuicao\\\\\n",
       "\t\\hline\n",
       "\t& Int64 & Date & String31 & Float64 & Float64 & Float64\\\\\n",
       "\t\\hline\n",
       "\t1 & 0 & 2020-01-01 & 1.Alimentação e bebidas & 19.3483 & 0.39 & 0.0754584 \\\\\n",
       "\t2 & 1 & 2020-01-01 & 2.Habitação & 15.5945 & 0.55 & 0.0857698 \\\\\n",
       "\t3 & 2 & 2020-01-01 & 3.Artigos de residência & 3.7529 & -0.07 & -0.00262703 \\\\\n",
       "\t4 & 3 & 2020-01-01 & 4.Vestuário & 4.577 & -0.48 & -0.0219696 \\\\\n",
       "\t5 & 4 & 2020-01-01 & 5.Transportes & 20.5979 & 0.32 & 0.0659133 \\\\\n",
       "\\end{tabular}\n"
      ],
      "text/plain": [
       "\u001b[1m5×6 DataFrame\u001b[0m\n",
       "\u001b[1m Row \u001b[0m│\u001b[1m Column1 \u001b[0m\u001b[1m date       \u001b[0m\u001b[1m groups                  \u001b[0m\u001b[1m peso    \u001b[0m\u001b[1m variacao \u001b[0m\u001b[1m contri\u001b[0m ⋯\n",
       "     │\u001b[90m Int64   \u001b[0m\u001b[90m Date       \u001b[0m\u001b[90m String31                \u001b[0m\u001b[90m Float64 \u001b[0m\u001b[90m Float64  \u001b[0m\u001b[90m Float6\u001b[0m ⋯\n",
       "─────┼──────────────────────────────────────────────────────────────────────────\n",
       "   1 │       0  2020-01-01  1.Alimentação e bebidas  19.3483      0.39    0.07 ⋯\n",
       "   2 │       1  2020-01-01  2.Habitação              15.5945      0.55    0.08\n",
       "   3 │       2  2020-01-01  3.Artigos de residência   3.7529     -0.07   -0.00\n",
       "   4 │       3  2020-01-01  4.Vestuário               4.577      -0.48   -0.02\n",
       "   5 │       4  2020-01-01  5.Transportes            20.5979      0.32    0.06 ⋯\n",
       "\u001b[36m                                                                1 column omitted\u001b[0m"
      ]
     },
     "execution_count": 17,
     "metadata": {},
     "output_type": "execute_result"
    }
   ],
   "source": [
    "ipcagp[1:5,:]"
   ]
  }
 ],
 "metadata": {
  "kernelspec": {
   "display_name": "Julia 1.10.4",
   "language": "julia",
   "name": "julia-1.10"
  },
  "language_info": {
   "file_extension": ".jl",
   "mimetype": "application/julia",
   "name": "julia",
   "version": "1.10.4"
  }
 },
 "nbformat": 4,
 "nbformat_minor": 5
}
