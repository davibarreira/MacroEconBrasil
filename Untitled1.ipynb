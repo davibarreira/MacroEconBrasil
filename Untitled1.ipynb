{
 "cells": [
  {
   "cell_type": "code",
   "execution_count": 19,
   "id": "3214300d-1323-4ea6-bde7-9fc63bbd0030",
   "metadata": {},
   "outputs": [],
   "source": [
    "import basedosdados as bd\n",
    "import pandas as pd\n",
    "import numpy as np"
   ]
  },
  {
   "cell_type": "code",
   "execution_count": 20,
   "id": "56075fd1-e968-4fd7-a797-b1b080c0100d",
   "metadata": {},
   "outputs": [],
   "source": [
    "# Para carregar o dado direto no pandas\n",
    "# df = bd.read_table(dataset_id='br_ibge_pnadc',\n",
    "# table_id='dicionario',\n",
    "# billing_project_id=\"titanium-acumen-430612-i5\")"
   ]
  },
  {
   "cell_type": "markdown",
   "id": "9e4dce67-e84a-40c6-9d23-46d6fa38ec20",
   "metadata": {},
   "source": [
    "Tabela de Dicionario de Dados PNAD-C\n",
    "(https://ftp.ibge.gov.br/Trabalho_e_Rendimento/Pesquisa_Nacional_por_Amostra_de_Domicilios_continua/Anual/Microdados/Trimestre/Documentacao_Geral/Definicao_variaveis_derivadas_PNADC_20200211.pdf)\n",
    "\n",
    "VD5002- Rendimento (efetivo) domiciliar per capita\n",
    "\n",
    "VD4020 – Rendimento efetivamente recebido em todos os trabalhos para pessoas de 14 anos ou\n",
    "mais de idade (apenas para pessoas que receberam em dinheiro, produtos ou mercadorias em\n",
    "qualquer trabalho)\n",
    "\n",
    "'Idade',  #V2009 \n",
    "\n",
    "'Cor',    #V2010\n",
    "\n",
    "Economicamente ativa/não',  #VD4001\n",
    "\n",
    "'Sexo',   #V2007"
   ]
  },
  {
   "cell_type": "code",
   "execution_count": 28,
   "id": "9ed15c2b-9a9f-4ffd-9ccf-c28d15415f38",
   "metadata": {},
   "outputs": [],
   "source": [
    "query = \"\"\"SELECT ano, sigla_uf, id_pessoa, VD4020 as renda, V2009 as idade, V2010 as cor,\n",
    "VD4001 as economicamente_ativo, V2007 as sexo\n",
    "FROM `basedosdados.br_ibge_pnadc.microdados`\n",
    "WHERE ano = 2023\n",
    "LIMIT 100\n",
    "\"\"\"\n",
    "\n",
    "query = \"\"\"\n",
    "SELECT \n",
    "  ano, \n",
    "  ARRAY_AGG(sigla_uf ORDER BY ano DESC LIMIT 1)[OFFSET(0)] as sigla_uf,\n",
    "  id_pessoa, \n",
    "  AVG(VD4020) as renda, \n",
    "  ARRAY_AGG(V2009 ORDER BY ano DESC LIMIT 1)[OFFSET(0)] as idade, \n",
    "  ARRAY_AGG(V2010 ORDER BY ano DESC LIMIT 1)[OFFSET(0)] as cor,\n",
    "  ARRAY_AGG(VD4001 ORDER BY ano DESC LIMIT 1)[OFFSET(0)] as economicamente_ativo, \n",
    "  ARRAY_AGG(V2007 ORDER BY ano DESC LIMIT 1)[OFFSET(0)] as sexo\n",
    "FROM \n",
    "  `basedosdados.br_ibge_pnadc.microdados`\n",
    "WHERE \n",
    "  ano = 2023\n",
    "GROUP BY \n",
    "  id_pessoa, ano\n",
    "\"\"\""
   ]
  },
  {
   "cell_type": "code",
   "execution_count": 29,
   "id": "a2cabe57-299b-4a2f-ba52-4ee6d4b7e4e7",
   "metadata": {},
   "outputs": [
    {
     "name": "stderr",
     "output_type": "stream",
     "text": [
      "Downloading: 100%|█████████████████| 827958/827958 [01:02<00:00, 13255.40rows/s]\n"
     ]
    }
   ],
   "source": [
    "dfyear = bd.read_sql(query=query,billing_project_id=\"titanium-acumen-430612-i5\")\n",
    "dfyear.to_feather(\"microdados_pnadc_2023.feather\");"
   ]
  },
  {
   "cell_type": "code",
   "execution_count": 36,
   "id": "b861cddc-9ac1-4406-ac6a-c97b40c58424",
   "metadata": {},
   "outputs": [],
   "source": [
    "# data = bd.read_table(dataset_id='br_ibge_pnadc', limit=100,\n",
    "#     table_id='microdados',\n",
    "#     billing_project_id=\"titanium-acumen-430612-i5\")\n",
    "# for i in data.columns:\n",
    "#     print(i)"
   ]
  }
 ],
 "metadata": {
  "kernelspec": {
   "display_name": "macroecon",
   "language": "python",
   "name": "macroecon"
  },
  "language_info": {
   "codemirror_mode": {
    "name": "ipython",
    "version": 3
   },
   "file_extension": ".py",
   "mimetype": "text/x-python",
   "name": "python",
   "nbconvert_exporter": "python",
   "pygments_lexer": "ipython3",
   "version": "3.8.19"
  }
 },
 "nbformat": 4,
 "nbformat_minor": 5
}
