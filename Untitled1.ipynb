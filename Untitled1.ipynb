{
 "cells": [
  {
   "cell_type": "code",
   "execution_count": 2,
   "id": "3214300d-1323-4ea6-bde7-9fc63bbd0030",
   "metadata": {},
   "outputs": [
    {
     "ename": "ModuleNotFoundError",
     "evalue": "No module named 'basedosdados'",
     "output_type": "error",
     "traceback": [
      "\u001b[0;31m---------------------------------------------------------------------------\u001b[0m",
      "\u001b[0;31mModuleNotFoundError\u001b[0m                       Traceback (most recent call last)",
      "Cell \u001b[0;32mIn[2], line 1\u001b[0m\n\u001b[0;32m----> 1\u001b[0m \u001b[38;5;28;01mimport\u001b[39;00m \u001b[38;5;21;01mbasedosdados\u001b[39;00m \u001b[38;5;28;01mas\u001b[39;00m \u001b[38;5;21;01mbd\u001b[39;00m\n",
      "\u001b[0;31mModuleNotFoundError\u001b[0m: No module named 'basedosdados'"
     ]
    }
   ],
   "source": [
    "import basedosdados as bd"
   ]
  },
  {
   "cell_type": "code",
   "execution_count": null,
   "id": "56075fd1-e968-4fd7-a797-b1b080c0100d",
   "metadata": {},
   "outputs": [],
   "source": [
    "\n",
    "# Para carregar o dado direto no pandas\n",
    "df = bd.read_table(dataset_id='br_ibge_pnadc',\n",
    "table_id='dicionario',\n",
    "billing_project_id=\"<YOUR_PROJECT_ID>\")"
   ]
  }
 ],
 "metadata": {
  "kernelspec": {
   "display_name": "macroecon",
   "language": "python",
   "name": "macroecon"
  },
  "language_info": {
   "codemirror_mode": {
    "name": "ipython",
    "version": 3
   },
   "file_extension": ".py",
   "mimetype": "text/x-python",
   "name": "python",
   "nbconvert_exporter": "python",
   "pygments_lexer": "ipython3",
   "version": "3.12.4"
  }
 },
 "nbformat": 4,
 "nbformat_minor": 5
}
